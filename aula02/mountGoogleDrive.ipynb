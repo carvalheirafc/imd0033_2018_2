{
  "nbformat": 4,
  "nbformat_minor": 0,
  "metadata": {
    "colab": {
      "name": "mountGoogleDrive.ipynb",
      "version": "0.3.2",
      "provenance": [],
      "collapsed_sections": [],
      "include_colab_link": true
    },
    "kernelspec": {
      "name": "python3",
      "display_name": "Python 3"
    }
  },
  "cells": [
    {
      "cell_type": "markdown",
      "metadata": {
        "id": "view-in-github",
        "colab_type": "text"
      },
      "source": [
        "[View in Colaboratory](https://colab.research.google.com/github/carvalheirafc/probabilidade_repository/blob/master/aula02/mountGoogleDrive.ipynb)"
      ]
    },
    {
      "metadata": {
        "id": "9L-ccONj936r",
        "colab_type": "code",
        "colab": {
          "base_uri": "https://localhost:8080/",
          "height": 260
        },
        "outputId": "0e4a0dac-73ea-4113-fd76-d1172252065a"
      },
      "cell_type": "code",
      "source": [
        "!apt-get install -y -qq software-properties-common python-software-properties module-init-tools\n",
        "!add-apt-repository -y ppa:alessandro-strada/ppa 2>&1 > /dev/null\n",
        "!apt-get update -qq 2>&1 > /dev/null\n",
        "!apt-get -y install -qq google-drive-ocamlfuse fuse"
      ],
      "execution_count": 1,
      "outputs": [
        {
          "output_type": "stream",
          "text": [
            "Selecting previously unselected package libfuse2:amd64.\r\n",
            "(Reading database ... \r(Reading database ... 5%\r(Reading database ... 10%\r(Reading database ... 15%\r(Reading database ... 20%\r(Reading database ... 25%\r(Reading database ... 30%\r(Reading database ... 35%\r(Reading database ... 40%\r(Reading database ... 45%\r(Reading database ... 50%\r(Reading database ... 55%\r(Reading database ... 60%\r(Reading database ... 65%\r(Reading database ... 70%\r(Reading database ... 75%\r(Reading database ... 80%\r(Reading database ... 85%\r(Reading database ... 90%\r(Reading database ... 95%\r(Reading database ... 100%\r(Reading database ... 19816 files and directories currently installed.)\r\n",
            "Preparing to unpack .../libfuse2_2.9.7-1ubuntu1_amd64.deb ...\n",
            "Unpacking libfuse2:amd64 (2.9.7-1ubuntu1) ...\n",
            "Selecting previously unselected package fuse.\n",
            "Preparing to unpack .../fuse_2.9.7-1ubuntu1_amd64.deb ...\n",
            "Unpacking fuse (2.9.7-1ubuntu1) ...\n",
            "Selecting previously unselected package google-drive-ocamlfuse.\n",
            "Preparing to unpack .../google-drive-ocamlfuse_0.6.21-0ubuntu2_amd64.deb ...\n",
            "Unpacking google-drive-ocamlfuse (0.6.21-0ubuntu2) ...\n",
            "Setting up libfuse2:amd64 (2.9.7-1ubuntu1) ...\n",
            "Processing triggers for libc-bin (2.26-0ubuntu2.1) ...\n",
            "Setting up fuse (2.9.7-1ubuntu1) ...\n",
            "Setting up google-drive-ocamlfuse (0.6.21-0ubuntu2) ...\n"
          ],
          "name": "stdout"
        }
      ]
    },
    {
      "metadata": {
        "id": "u3l5jzCsGO1-",
        "colab_type": "code",
        "colab": {}
      },
      "cell_type": "code",
      "source": [
        "from google.colab import auth\n",
        "auth.authenticate_user()"
      ],
      "execution_count": 0,
      "outputs": []
    },
    {
      "metadata": {
        "id": "Z7zkkIpPGP14",
        "colab_type": "code",
        "colab": {
          "base_uri": "https://localhost:8080/",
          "height": 106
        },
        "outputId": "f9fbcc98-dce9-4164-cce9-ee6ad2b7c09a"
      },
      "cell_type": "code",
      "source": [
        "from oauth2client.client import GoogleCredentials\n",
        "creds = GoogleCredentials.get_application_default()\n",
        "import getpass\n",
        "!google-drive-ocamlfuse -headless -id={creds.client_id} -secret={creds.client_secret} < /dev/null 2>&1 | grep URL\n",
        "vcode = getpass.getpass()\n",
        "!echo {vcode} | google-drive-ocamlfuse -headless -id={creds.client_id} -secret={creds.client_secret}"
      ],
      "execution_count": 3,
      "outputs": [
        {
          "output_type": "stream",
          "text": [
            "Please, open the following URL in a web browser: https://accounts.google.com/o/oauth2/auth?client_id=32555940559.apps.googleusercontent.com&redirect_uri=urn%3Aietf%3Awg%3Aoauth%3A2.0%3Aoob&scope=https%3A%2F%2Fwww.googleapis.com%2Fauth%2Fdrive&response_type=code&access_type=offline&approval_prompt=force\r\n",
            "··········\n",
            "Please, open the following URL in a web browser: https://accounts.google.com/o/oauth2/auth?client_id=32555940559.apps.googleusercontent.com&redirect_uri=urn%3Aietf%3Awg%3Aoauth%3A2.0%3Aoob&scope=https%3A%2F%2Fwww.googleapis.com%2Fauth%2Fdrive&response_type=code&access_type=offline&approval_prompt=force\n",
            "Please enter the verification code: Access token retrieved correctly.\n"
          ],
          "name": "stdout"
        }
      ]
    },
    {
      "metadata": {
        "id": "yUWxbjPOGo-_",
        "colab_type": "code",
        "colab": {}
      },
      "cell_type": "code",
      "source": [
        "!mkdir -p drive\n",
        "!google-drive-ocamlfuse drive"
      ],
      "execution_count": 0,
      "outputs": []
    },
    {
      "metadata": {
        "id": "9yNDTJGcHulC",
        "colab_type": "code",
        "colab": {}
      },
      "cell_type": "code",
      "source": [
        "import os\n",
        "os.chdir(\"/content/drive/probabilidade_2018_2/aula02\")\n"
      ],
      "execution_count": 0,
      "outputs": []
    },
    {
      "metadata": {
        "id": "tq0ToFFUJJsF",
        "colab_type": "code",
        "colab": {
          "base_uri": "https://localhost:8080/",
          "height": 1285
        },
        "outputId": "dbcb1af9-8793-42f5-ebe5-f768ca593e4a"
      },
      "cell_type": "code",
      "source": [
        "import os\n",
        "stream = open(\"crime_rates.csv\", \"r\")\n",
        "buffer = stream.read();\n",
        "print(buffer)"
      ],
      "execution_count": 6,
      "outputs": [
        {
          "output_type": "stream",
          "text": [
            "Albuquerque,749\n",
            "Anaheim,371\n",
            "Anchorage,828\n",
            "Arlington,503\n",
            "Atlanta,1379\n",
            "Aurora,425\n",
            "Austin,408\n",
            "Bakersfield,542\n",
            "Baltimore,1405\n",
            "Boston,835\n",
            "Buffalo,1288\n",
            "Charlotte-Mecklenburg,647\n",
            "Cincinnati,974\n",
            "Cleveland,1383\n",
            "Colorado Springs,455\n",
            "Corpus Christi,658\n",
            "Dallas,675\n",
            "Denver,615\n",
            "Detroit,2122\n",
            "El Paso,423\n",
            "Fort Wayne,362\n",
            "Fort Worth,587\n",
            "Fresno,543\n",
            "Greensboro,563\n",
            "Henderson,168\n",
            "Houston,992\n",
            "Indianapolis,1185\n",
            "Jacksonville,617\n",
            "Jersey City,734\n",
            "Kansas City,1263\n",
            "Las Vegas,784\n",
            "Lexington,352\n",
            "Lincoln,397\n",
            "Long Beach,575\n",
            "Los Angeles,481\n",
            "Louisville Metro,598\n",
            "Memphis,1750\n",
            "Mesa,399\n",
            "Miami,1172\n",
            "Milwaukee,1294\n",
            "Minneapolis,992\n",
            "Mobile,522\n",
            "Nashville,1216\n",
            "New Orleans,815\n",
            "New York,639\n",
            "Newark,1154\n",
            "Oakland,1993\n",
            "Oklahoma City,919\n",
            "Omaha,594\n",
            "Philadelphia,1160\n",
            "Phoenix,636\n",
            "Pittsburgh,752\n",
            "Plano,130\n",
            "Portland,517\n",
            "Raleigh,423\n",
            "Riverside,443\n",
            "Sacramento,738\n",
            "San Antonio,503\n",
            "San Diego,413\n",
            "San Francisco,704\n",
            "San Jose,363\n",
            "Santa Ana,401\n",
            "Seattle,597\n",
            "St. Louis,1776\n",
            "St. Paul,722\n",
            "Stockton,1548\n",
            "Tampa,616\n",
            "Toledo,1171\n",
            "Tucson,724\n",
            "Tulsa,990\n",
            "Virginia Beach,169\n",
            "Washington,1177\n",
            "Wichita,742\n"
          ],
          "name": "stdout"
        }
      ]
    },
    {
      "metadata": {
        "id": "cDclV7U1h6zk",
        "colab_type": "code",
        "colab": {
          "base_uri": "https://localhost:8080/",
          "height": 54
        },
        "outputId": "75b1a26e-d83b-42b3-bdfb-c072621d7aa3"
      },
      "cell_type": "code",
      "source": [
        "rows = buffer.split(\"\\n\")\n",
        "print(rows)\n",
        "\n",
        " "
      ],
      "execution_count": 7,
      "outputs": [
        {
          "output_type": "stream",
          "text": [
            "['Albuquerque,749', 'Anaheim,371', 'Anchorage,828', 'Arlington,503', 'Atlanta,1379', 'Aurora,425', 'Austin,408', 'Bakersfield,542', 'Baltimore,1405', 'Boston,835', 'Buffalo,1288', 'Charlotte-Mecklenburg,647', 'Cincinnati,974', 'Cleveland,1383', 'Colorado Springs,455', 'Corpus Christi,658', 'Dallas,675', 'Denver,615', 'Detroit,2122', 'El Paso,423', 'Fort Wayne,362', 'Fort Worth,587', 'Fresno,543', 'Greensboro,563', 'Henderson,168', 'Houston,992', 'Indianapolis,1185', 'Jacksonville,617', 'Jersey City,734', 'Kansas City,1263', 'Las Vegas,784', 'Lexington,352', 'Lincoln,397', 'Long Beach,575', 'Los Angeles,481', 'Louisville Metro,598', 'Memphis,1750', 'Mesa,399', 'Miami,1172', 'Milwaukee,1294', 'Minneapolis,992', 'Mobile,522', 'Nashville,1216', 'New Orleans,815', 'New York,639', 'Newark,1154', 'Oakland,1993', 'Oklahoma City,919', 'Omaha,594', 'Philadelphia,1160', 'Phoenix,636', 'Pittsburgh,752', 'Plano,130', 'Portland,517', 'Raleigh,423', 'Riverside,443', 'Sacramento,738', 'San Antonio,503', 'San Diego,413', 'San Francisco,704', 'San Jose,363', 'Santa Ana,401', 'Seattle,597', 'St. Louis,1776', 'St. Paul,722', 'Stockton,1548', 'Tampa,616', 'Toledo,1171', 'Tucson,724', 'Tulsa,990', 'Virginia Beach,169', 'Washington,1177', 'Wichita,742']\n"
          ],
          "name": "stdout"
        }
      ]
    },
    {
      "metadata": {
        "id": "2hm0K8i2OT8i",
        "colab_type": "code",
        "colab": {
          "base_uri": "https://localhost:8080/",
          "height": 191
        },
        "outputId": "895108f3-7b52-4f46-80a3-97e3009aafab"
      },
      "cell_type": "code",
      "source": [
        "ten_rows = rows[0:10]\n",
        "for iterator in ten_rows:\n",
        "  print(iterator)"
      ],
      "execution_count": 8,
      "outputs": [
        {
          "output_type": "stream",
          "text": [
            "Albuquerque,749\n",
            "Anaheim,371\n",
            "Anchorage,828\n",
            "Arlington,503\n",
            "Atlanta,1379\n",
            "Aurora,425\n",
            "Austin,408\n",
            "Bakersfield,542\n",
            "Baltimore,1405\n",
            "Boston,835\n"
          ],
          "name": "stdout"
        }
      ]
    },
    {
      "metadata": {
        "id": "QfoFarVIK0EU",
        "colab_type": "code",
        "colab": {
          "base_uri": "https://localhost:8080/",
          "height": 54
        },
        "outputId": "56e50479-bc86-4758-ac53-29dd3dab4122"
      },
      "cell_type": "code",
      "source": [
        "f = open(\"crime_rates.csv\", \"r\")\n",
        "data = f.read()\n",
        "rows = data.split(\"\\n\")\n",
        "#print(rows[0:5])\n",
        "\n",
        "final_data = []\n",
        "for iterator in rows:\n",
        "  slicer = iterator.split(\",\")\n",
        "  #print(slicer)\n",
        "  final_data.append(slicer)\n",
        " \n",
        "print(final_data)"
      ],
      "execution_count": 10,
      "outputs": [
        {
          "output_type": "stream",
          "text": [
            "[['Albuquerque', '749'], ['Anaheim', '371'], ['Anchorage', '828'], ['Arlington', '503'], ['Atlanta', '1379'], ['Aurora', '425'], ['Austin', '408'], ['Bakersfield', '542'], ['Baltimore', '1405'], ['Boston', '835'], ['Buffalo', '1288'], ['Charlotte-Mecklenburg', '647'], ['Cincinnati', '974'], ['Cleveland', '1383'], ['Colorado Springs', '455'], ['Corpus Christi', '658'], ['Dallas', '675'], ['Denver', '615'], ['Detroit', '2122'], ['El Paso', '423'], ['Fort Wayne', '362'], ['Fort Worth', '587'], ['Fresno', '543'], ['Greensboro', '563'], ['Henderson', '168'], ['Houston', '992'], ['Indianapolis', '1185'], ['Jacksonville', '617'], ['Jersey City', '734'], ['Kansas City', '1263'], ['Las Vegas', '784'], ['Lexington', '352'], ['Lincoln', '397'], ['Long Beach', '575'], ['Los Angeles', '481'], ['Louisville Metro', '598'], ['Memphis', '1750'], ['Mesa', '399'], ['Miami', '1172'], ['Milwaukee', '1294'], ['Minneapolis', '992'], ['Mobile', '522'], ['Nashville', '1216'], ['New Orleans', '815'], ['New York', '639'], ['Newark', '1154'], ['Oakland', '1993'], ['Oklahoma City', '919'], ['Omaha', '594'], ['Philadelphia', '1160'], ['Phoenix', '636'], ['Pittsburgh', '752'], ['Plano', '130'], ['Portland', '517'], ['Raleigh', '423'], ['Riverside', '443'], ['Sacramento', '738'], ['San Antonio', '503'], ['San Diego', '413'], ['San Francisco', '704'], ['San Jose', '363'], ['Santa Ana', '401'], ['Seattle', '597'], ['St. Louis', '1776'], ['St. Paul', '722'], ['Stockton', '1548'], ['Tampa', '616'], ['Toledo', '1171'], ['Tucson', '724'], ['Tulsa', '990'], ['Virginia Beach', '169'], ['Washington', '1177'], ['Wichita', '742']]\n"
          ],
          "name": "stdout"
        }
      ]
    },
    {
      "metadata": {
        "id": "01g-YcmvMRSk",
        "colab_type": "code",
        "colab": {
          "base_uri": "https://localhost:8080/",
          "height": 54
        },
        "outputId": "7179fc91-92f6-4029-a2c9-14dfcd5c89bf"
      },
      "cell_type": "code",
      "source": [
        "five_elements = final_data[0:5]\n",
        "cities_list = []\n",
        "cities_list.append(five_elements)\n",
        "print(cities_list)"
      ],
      "execution_count": 11,
      "outputs": [
        {
          "output_type": "stream",
          "text": [
            "[[['Albuquerque', '749'], ['Anaheim', '371'], ['Anchorage', '828'], ['Arlington', '503'], ['Atlanta', '1379']]]\n"
          ],
          "name": "stdout"
        }
      ]
    },
    {
      "metadata": {
        "id": "DxwmXkGiS7RG",
        "colab_type": "code",
        "colab": {
          "base_uri": "https://localhost:8080/",
          "height": 72
        },
        "outputId": "805056fc-5c0c-406d-bdcf-3a5ad1231a62"
      },
      "cell_type": "code",
      "source": [
        "int_crime_rates = []\n",
        "crime_rate = []\n",
        "for iterator in final_data:\n",
        "  crime_rate = int(iterator[1])\n",
        "  int_crime_rates.append(crime_rate)\n",
        "  \n",
        "print(int_crime_rates)\n",
        "print(type(int_crime_rates[0]))"
      ],
      "execution_count": 20,
      "outputs": [
        {
          "output_type": "stream",
          "text": [
            "[749, 371, 828, 503, 1379, 425, 408, 542, 1405, 835, 1288, 647, 974, 1383, 455, 658, 675, 615, 2122, 423, 362, 587, 543, 563, 168, 992, 1185, 617, 734, 1263, 784, 352, 397, 575, 481, 598, 1750, 399, 1172, 1294, 992, 522, 1216, 815, 639, 1154, 1993, 919, 594, 1160, 636, 752, 130, 517, 423, 443, 738, 503, 413, 704, 363, 401, 597, 1776, 722, 1548, 616, 1171, 724, 990, 169, 1177, 742]\n",
            "<class 'int'>\n"
          ],
          "name": "stdout"
        }
      ]
    },
    {
      "metadata": {
        "id": "6zEKeOXlrcEN",
        "colab_type": "code",
        "colab": {}
      },
      "cell_type": "code",
      "source": [
        ""
      ],
      "execution_count": 0,
      "outputs": []
    }
  ]
}