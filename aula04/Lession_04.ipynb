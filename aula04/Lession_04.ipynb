{
  "nbformat": 4,
  "nbformat_minor": 0,
  "metadata": {
    "colab": {
      "name": "Lession#04.ipynb",
      "version": "0.3.2",
      "provenance": [],
      "collapsed_sections": [],
      "include_colab_link": true
    }
  },
  "cells": [
    {
      "cell_type": "markdown",
      "metadata": {
        "id": "view-in-github",
        "colab_type": "text"
      },
      "source": [
        "[View in Colaboratory](https://colab.research.google.com/github/carvalheirafc/probabilidade_repository/blob/master/aula04/Lession_04.ipynb)"
      ]
    },
    {
      "metadata": {
        "id": "zQyasf2QHW1j",
        "colab_type": "code",
        "colab": {}
      },
      "cell_type": "code",
      "source": [
        "from google.colab import files\n",
        "\n",
        "uploaded = files.upload()\n",
        "\n",
        "for fn in uploaded.keys():\n",
        "  print('User uploaded file \"{name}\" with length {length} bytes'.format(\n",
        "      name=fn, length=len(uploaded[fn])))"
      ],
      "execution_count": 0,
      "outputs": []
    },
    {
      "metadata": {
        "id": "3cQPuquPHddc",
        "colab_type": "code",
        "colab": {}
      },
      "cell_type": "code",
      "source": [
        "fstream = open(\"la_weather.csv\", \"r\")\n",
        "\n",
        "rows = fstream.read().split('\\n')\n",
        "full_data = []\n",
        "\n",
        "#split and get the second column\n",
        "for it_row in rows:\n",
        "  full_data.append(it_row.split(\",\")[1])\n",
        "  \n",
        "#skip the header\n",
        "weather = full_data[1:]\n",
        "\n",
        "print(weather)"
      ],
      "execution_count": 0,
      "outputs": []
    },
    {
      "metadata": {
        "id": "usGx_h7WIsRt",
        "colab_type": "code",
        "colab": {}
      },
      "cell_type": "code",
      "source": [
        "#fist element and last element\n",
        "\n",
        "first_element = weather[0]\n",
        "last_element = weather[-1]\n",
        "\n",
        "print(first_element)\n",
        "print(last_element)"
      ],
      "execution_count": 0,
      "outputs": []
    },
    {
      "metadata": {
        "id": "SzIjLjQGJhuN",
        "colab_type": "code",
        "colab": {}
      },
      "cell_type": "code",
      "source": [
        "#creating Dictionaries\n",
        "\n",
        "superhero_ranks = {}\n",
        "superhero_ranks[\"Aquaman\"] = 1\n",
        "superhero_ranks[\"Superman\"] = 2\n",
        "\n",
        "president_ranks = {}\n",
        "president_ranks[\"FDR\"] = 1\n",
        "president_ranks[\"Lincoln\"] = 2\n",
        "president_ranks[\"Aquaman\"] = 3\n",
        "\n",
        "fdr_rank = president_ranks[\"FDR\"]\n",
        "lincoln_rank = president_ranks[\"Lincoln\"]\n",
        "aquaman_rank = president_ranks[\"Aquaman\"]\n",
        "\n",
        "print(fdr_rank, lincoln_rank, aquaman_rank)\n",
        " "
      ],
      "execution_count": 0,
      "outputs": []
    },
    {
      "metadata": {
        "id": "HOSDKvKe-Bwx",
        "colab_type": "code",
        "colab": {
          "base_uri": "https://localhost:8080/",
          "height": 34
        },
        "outputId": "3e77bf6f-37ca-4d55-bc7a-44eb96118089"
      },
      "cell_type": "code",
      "source": [
        "animals = {\n",
        "    7: \"raven\",\n",
        "    8: \"goose\",\n",
        "    9: \"duck\"\n",
        "}\n",
        "\n",
        "print(animals)"
      ],
      "execution_count": 7,
      "outputs": [
        {
          "output_type": "stream",
          "text": [
            "{8: 'goose', 9: 'duck', 7: 'raven'}\n"
          ],
          "name": "stdout"
        }
      ]
    },
    {
      "metadata": {
        "id": "IEj8Ljlz-gkB",
        "colab_type": "code",
        "colab": {
          "base_uri": "https://localhost:8080/",
          "height": 34
        },
        "outputId": "f9022223-60f0-4c34-d91f-3fbbbb55c301"
      },
      "cell_type": "code",
      "source": [
        "times = {\n",
        "    \"morning\": 9,\n",
        "    \"afternoon\": 14,\n",
        "    \"evening\": 19,\n",
        "    \"night\": 23\n",
        "}\n",
        "print(times)"
      ],
      "execution_count": 8,
      "outputs": [
        {
          "output_type": "stream",
          "text": [
            "{'night': 23, 'evening': 19, 'afternoon': 14, 'morning': 9}\n"
          ],
          "name": "stdout"
        }
      ]
    },
    {
      "metadata": {
        "id": "T0H_gxOM-zni",
        "colab_type": "code",
        "colab": {
          "base_uri": "https://localhost:8080/",
          "height": 34
        },
        "outputId": "30962a95-c516-472d-c084-25f23e0f1c89"
      },
      "cell_type": "code",
      "source": [
        "studentsstudent  = {\n",
        "    \"Tom\": 60,\n",
        "    \"Jim\": 70\n",
        "}\n",
        "\n",
        "studentsstudent[\"Ann\"] = 85\n",
        "studentsstudent[\"Tom\"] = 80\n",
        "studentsstudent[\"Jim\"] = studentsstudent[\"Jim\"] + 5\n",
        " \n",
        "\n",
        "print(studentsstudent)"
      ],
      "execution_count": 10,
      "outputs": [
        {
          "output_type": "stream",
          "text": [
            "{'Ann': 85, 'Jim': 75, 'Tom': 80}\n"
          ],
          "name": "stdout"
        }
      ]
    },
    {
      "metadata": {
        "id": "-WqhReRRAcNj",
        "colab_type": "code",
        "colab": {}
      },
      "cell_type": "code",
      "source": [
        ""
      ],
      "execution_count": 0,
      "outputs": []
    }
  ]
}