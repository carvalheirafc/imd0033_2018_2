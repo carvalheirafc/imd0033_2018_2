{
  "nbformat": 4,
  "nbformat_minor": 0,
  "metadata": {
    "colab": {
      "name": "Lession#04.ipynb",
      "version": "0.3.2",
      "provenance": [],
      "collapsed_sections": [],
      "include_colab_link": true
    }
  },
  "cells": [
    {
      "cell_type": "markdown",
      "metadata": {
        "id": "view-in-github",
        "colab_type": "text"
      },
      "source": [
        "[View in Colaboratory](https://colab.research.google.com/github/carvalheirafc/probabilidade_repository/blob/master/aula04/Lession_04.ipynb)"
      ]
    },
    {
      "metadata": {
        "id": "zQyasf2QHW1j",
        "colab_type": "code",
        "colab": {}
      },
      "cell_type": "code",
      "source": [
        "from google.colab import files\n",
        "\n",
        "uploaded = files.upload()\n",
        "\n",
        "for fn in uploaded.keys():\n",
        "  print('User uploaded file \"{name}\" with length {length} bytes'.format(\n",
        "      name=fn, length=len(uploaded[fn])))"
      ],
      "execution_count": 0,
      "outputs": []
    },
    {
      "metadata": {
        "id": "3cQPuquPHddc",
        "colab_type": "code",
        "colab": {}
      },
      "cell_type": "code",
      "source": [
        "fstream = open(\"la_weather.csv\", \"r\")\n",
        "\n",
        "rows = fstream.read().split('\\n')\n",
        "full_data = []\n",
        "\n",
        "#split and get the second column\n",
        "for it_row in rows:\n",
        "  full_data.append(it_row.split(\",\")[1])\n",
        "  \n",
        "#skip the header\n",
        "weather = full_data[1:]\n",
        "\n",
        "print(weather)"
      ],
      "execution_count": 0,
      "outputs": []
    },
    {
      "metadata": {
        "id": "usGx_h7WIsRt",
        "colab_type": "code",
        "colab": {}
      },
      "cell_type": "code",
      "source": [
        "#fist element and last element\n",
        "\n",
        "first_element = weather[0]\n",
        "last_element = weather[-1]\n",
        "\n",
        "print(first_element)\n",
        "print(last_element)"
      ],
      "execution_count": 0,
      "outputs": []
    },
    {
      "metadata": {
        "id": "SzIjLjQGJhuN",
        "colab_type": "code",
        "colab": {}
      },
      "cell_type": "code",
      "source": [
        "#creating Dictionaries\n",
        "\n",
        "superhero_ranks = {}\n",
        "superhero_ranks[\"Aquaman\"] = 1\n",
        "superhero_ranks[\"Superman\"] = 2\n",
        "\n",
        "president_ranks = {}\n",
        "president_ranks[\"FDR\"] = 1\n",
        "president_ranks[\"Lincoln\"] = 2\n",
        "president_ranks[\"Aquaman\"] = 3\n",
        "\n",
        "fdr_rank = president_ranks[\"FDR\"]\n",
        "lincoln_rank = president_ranks[\"Lincoln\"]\n",
        "aquaman_rank = president_ranks[\"Aquaman\"]\n",
        "\n",
        "print(fdr_rank, lincoln_rank, aquaman_rank)\n",
        " "
      ],
      "execution_count": 0,
      "outputs": []
    },
    {
      "metadata": {
        "id": "HOSDKvKe-Bwx",
        "colab_type": "code",
        "colab": {}
      },
      "cell_type": "code",
      "source": [
        ""
      ],
      "execution_count": 0,
      "outputs": []
    }
  ]
}