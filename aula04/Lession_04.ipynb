{
  "nbformat": 4,
  "nbformat_minor": 0,
  "metadata": {
    "colab": {
      "name": "Lession#04.ipynb",
      "version": "0.3.2",
      "provenance": [],
      "collapsed_sections": [],
      "include_colab_link": true
    }
  },
  "cells": [
    {
      "cell_type": "markdown",
      "metadata": {
        "id": "view-in-github",
        "colab_type": "text"
      },
      "source": [
        "[View in Colaboratory](https://colab.research.google.com/github/carvalheirafc/probabilidade_repository/blob/master/aula04/Lession_04.ipynb)"
      ]
    },
    {
      "metadata": {
        "id": "zQyasf2QHW1j",
        "colab_type": "code",
        "colab": {}
      },
      "cell_type": "code",
      "source": [
        "from google.colab import files\n",
        "\n",
        "uploaded = files.upload()\n",
        "\n",
        "for fn in uploaded.keys():\n",
        "  print('User uploaded file \"{name}\" with length {length} bytes'.format(\n",
        "      name=fn, length=len(uploaded[fn])))"
      ],
      "execution_count": 0,
      "outputs": []
    },
    {
      "metadata": {
        "id": "3cQPuquPHddc",
        "colab_type": "code",
        "colab": {}
      },
      "cell_type": "code",
      "source": [
        "fstream = open(\"la_weather.csv\", \"r\")\n",
        "\n",
        "rows = fstream.read().slpit('\\n')\n",
        "full_data = []\n",
        "\n",
        "#split and get the second column\n",
        "for it_row in rows:\n",
        "  full_data.append(row.split(\",\")[1])\n",
        "  \n",
        "#skip the header\n",
        "weather = full_data[1:]\n",
        "\n"
      ],
      "execution_count": 0,
      "outputs": []
    }
  ]
}