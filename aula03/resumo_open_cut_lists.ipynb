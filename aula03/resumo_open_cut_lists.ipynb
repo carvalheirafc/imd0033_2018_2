{
  "nbformat": 4,
  "nbformat_minor": 0,
  "metadata": {
    "colab": {
      "name": "resumo_open_cut_lists.ipynb",
      "version": "0.3.2",
      "provenance": [],
      "include_colab_link": true
    }
  },
  "cells": [
    {
      "cell_type": "markdown",
      "metadata": {
        "id": "view-in-github",
        "colab_type": "text"
      },
      "source": [
        "[View in Colaboratory](https://colab.research.google.com/github/carvalheirafc/probabilidade_repository/blob/master/aula03/resumo_open_cut_lists.ipynb)"
      ]
    },
    {
      "metadata": {
        "id": "bLGQS7xJuOmL",
        "colab_type": "code",
        "colab": {}
      },
      "cell_type": "code",
      "source": [
        "from google.colab import files\n",
        "\n",
        "uploaded = files.upload()\n",
        "\n",
        "for fn in uploaded.keys():\n",
        "  print('User uploaded file \"{name}\" with length {length} bytes'.format(\n",
        "      name=fn, length=len(uploaded[fn])))"
      ],
      "execution_count": 0,
      "outputs": []
    },
    {
      "metadata": {
        "id": "ZpqChY-WuSkL",
        "colab_type": "code",
        "colab": {
          "base_uri": "https://localhost:8080/",
          "height": 54
        },
        "outputId": "43efa28b-33c5-4355-ce8e-760fc97f8838"
      },
      "cell_type": "code",
      "source": [
        "f = open(\"crime_rates.csv\", \"r\")\n",
        "data = f.read()\n",
        "rows = data.split(\"\\n\")\n",
        "#print(rows[0:5])\n",
        "\n",
        "final_data = []\n",
        "for iterator in rows:\n",
        "  slicer = iterator.split(\",\")\n",
        "  #print(slicer)\n",
        "  final_data.append(slicer)\n",
        " \n",
        "print(final_data)\n",
        "  "
      ],
      "execution_count": 9,
      "outputs": [
        {
          "output_type": "stream",
          "text": [
            "[['Albuquerque', '749'], ['Anaheim', '371'], ['Anchorage', '828'], ['Arlington', '503'], ['Atlanta', '1379'], ['Aurora', '425'], ['Austin', '408'], ['Bakersfield', '542'], ['Baltimore', '1405'], ['Boston', '835'], ['Buffalo', '1288'], ['Charlotte-Mecklenburg', '647'], ['Cincinnati', '974'], ['Cleveland', '1383'], ['Colorado Springs', '455'], ['Corpus Christi', '658'], ['Dallas', '675'], ['Denver', '615'], ['Detroit', '2122'], ['El Paso', '423'], ['Fort Wayne', '362'], ['Fort Worth', '587'], ['Fresno', '543'], ['Greensboro', '563'], ['Henderson', '168'], ['Houston', '992'], ['Indianapolis', '1185'], ['Jacksonville', '617'], ['Jersey City', '734'], ['Kansas City', '1263'], ['Las Vegas', '784'], ['Lexington', '352'], ['Lincoln', '397'], ['Long Beach', '575'], ['Los Angeles', '481'], ['Louisville Metro', '598'], ['Memphis', '1750'], ['Mesa', '399'], ['Miami', '1172'], ['Milwaukee', '1294'], ['Minneapolis', '992'], ['Mobile', '522'], ['Nashville', '1216'], ['New Orleans', '815'], ['New York', '639'], ['Newark', '1154'], ['Oakland', '1993'], ['Oklahoma City', '919'], ['Omaha', '594'], ['Philadelphia', '1160'], ['Phoenix', '636'], ['Pittsburgh', '752'], ['Plano', '130'], ['Portland', '517'], ['Raleigh', '423'], ['Riverside', '443'], ['Sacramento', '738'], ['San Antonio', '503'], ['San Diego', '413'], ['San Francisco', '704'], ['San Jose', '363'], ['Santa Ana', '401'], ['Seattle', '597'], ['St. Louis', '1776'], ['St. Paul', '722'], ['Stockton', '1548'], ['Tampa', '616'], ['Toledo', '1171'], ['Tucson', '724'], ['Tulsa', '990'], ['Virginia Beach', '169'], ['Washington', '1177'], ['Wichita', '742']]\n"
          ],
          "name": "stdout"
        }
      ]
    },
    {
      "metadata": {
        "id": "zSA-Z2kIwVzC",
        "colab_type": "code",
        "colab": {
          "base_uri": "https://localhost:8080/",
          "height": 72
        },
        "outputId": "95a06c79-9145-42bf-80c6-ecc881138af4"
      },
      "cell_type": "code",
      "source": [
        "int_crime_rates = []\n",
        "crime_rate = []\n",
        "for iterator in final_data:\n",
        "  crime_rate = int(iterator[1])\n",
        "  int_crime_rates.append(crime_rate)\n",
        "  \n",
        "print(int_crime_rates)\n",
        "print(type(int_crime_rates[0]))"
      ],
      "execution_count": 10,
      "outputs": [
        {
          "output_type": "stream",
          "text": [
            "[749, 371, 828, 503, 1379, 425, 408, 542, 1405, 835, 1288, 647, 974, 1383, 455, 658, 675, 615, 2122, 423, 362, 587, 543, 563, 168, 992, 1185, 617, 734, 1263, 784, 352, 397, 575, 481, 598, 1750, 399, 1172, 1294, 992, 522, 1216, 815, 639, 1154, 1993, 919, 594, 1160, 636, 752, 130, 517, 423, 443, 738, 503, 413, 704, 363, 401, 597, 1776, 722, 1548, 616, 1171, 724, 990, 169, 1177, 742]\n",
            "<type 'int'>\n"
          ],
          "name": "stdout"
        }
      ]
    },
    {
      "metadata": {
        "id": "hSs0ZIWLwfzQ",
        "colab_type": "code",
        "colab": {}
      },
      "cell_type": "code",
      "source": [
        ""
      ],
      "execution_count": 0,
      "outputs": []
    }
  ]
}