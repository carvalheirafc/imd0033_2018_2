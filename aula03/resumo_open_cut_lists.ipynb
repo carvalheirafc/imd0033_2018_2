{
  "nbformat": 4,
  "nbformat_minor": 0,
  "metadata": {
    "colab": {
      "name": "resumo_open_cut_lists.ipynb",
      "version": "0.3.2",
      "provenance": [],
      "collapsed_sections": [],
      "include_colab_link": true
    }
  },
  "cells": [
    {
      "cell_type": "markdown",
      "metadata": {
        "id": "view-in-github",
        "colab_type": "text"
      },
      "source": [
        "[View in Colaboratory](https://colab.research.google.com/github/carvalheirafc/probabilidade_repository/blob/master/aula03/resumo_open_cut_lists.ipynb)"
      ]
    },
    {
      "metadata": {
        "id": "bLGQS7xJuOmL",
        "colab_type": "code",
        "colab": {
          "resources": {
            "http://localhost:8080/nbextensions/google.colab/files.js": {
              "data": "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",
              "ok": true,
              "headers": [
                [
                  "content-type",
                  "application/javascript"
                ]
              ],
              "status": 200,
              "status_text": "OK"
            }
          },
          "base_uri": "https://localhost:8080/",
          "height": 98
        },
        "outputId": "410aa909-76ef-43b8-dcf9-39c4ef4fd431"
      },
      "cell_type": "code",
      "source": [
        "from google.colab import files\n",
        "\n",
        "uploaded = files.upload()\n",
        "\n",
        "for fn in uploaded.keys():\n",
        "  print('User uploaded file \"{name}\" with length {length} bytes'.format(\n",
        "      name=fn, length=len(uploaded[fn])))"
      ],
      "execution_count": 26,
      "outputs": [
        {
          "output_type": "display_data",
          "data": {
            "text/plain": [
              "<IPython.core.display.HTML object>"
            ],
            "text/html": [
              "\n",
              "     <input type=\"file\" id=\"files-940f534b-0bd0-43b9-a92e-0cc4a3f5ee85\" name=\"files[]\" multiple disabled />\n",
              "     <output id=\"result-940f534b-0bd0-43b9-a92e-0cc4a3f5ee85\">\n",
              "      Upload widget is only available when the cell has been executed in the\n",
              "      current browser session. Please rerun this cell to enable.\n",
              "      </output>\n",
              "      <script src=\"/nbextensions/google.colab/files.js\"></script> "
            ]
          },
          "metadata": {
            "tags": []
          }
        },
        {
          "output_type": "stream",
          "text": [
            "Saving la_weather.csv to la_weather.csv\n",
            "User uploaded file \"la_weather.csv\" with length 3305 bytes\n"
          ],
          "name": "stdout"
        }
      ]
    },
    {
      "metadata": {
        "id": "ZpqChY-WuSkL",
        "colab_type": "code",
        "colab": {}
      },
      "cell_type": "code",
      "source": [
        "f = open(\"crime_rates.csv\", \"r\")\n",
        "data = f.read()\n",
        "rows = data.split(\"\\n\")\n",
        "#print(rows[0:5])\n",
        "\n",
        "final_data = []\n",
        "for iterator in rows:\n",
        "  slicer = iterator.split(\",\")\n",
        "  #print(slicer)\n",
        "  final_data.append(slicer)\n",
        " \n",
        "print(final_data)\n",
        "  "
      ],
      "execution_count": 0,
      "outputs": []
    },
    {
      "metadata": {
        "id": "zSA-Z2kIwVzC",
        "colab_type": "code",
        "colab": {}
      },
      "cell_type": "code",
      "source": [
        "int_crime_rates = []\n",
        "crime_rate = []\n",
        "for iterator in final_data:\n",
        "  crime_rate = int(iterator[1])\n",
        "  int_crime_rates.append(crime_rate)\n",
        "  \n",
        "print(int_crime_rates)\n",
        "#print(type(int_crime_rates[0]))"
      ],
      "execution_count": 0,
      "outputs": []
    },
    {
      "metadata": {
        "id": "hSs0ZIWLwfzQ",
        "colab_type": "code",
        "colab": {}
      },
      "cell_type": "code",
      "source": [
        "converted_list = []\n",
        "for row_it in final_data:\n",
        "  converted_list.append([row_it[0], float(row_it[1])])"
      ],
      "execution_count": 0,
      "outputs": []
    },
    {
      "metadata": {
        "id": "k6rvC-fsyJ7o",
        "colab_type": "code",
        "colab": {}
      },
      "cell_type": "code",
      "source": [
        "print (converted_list)"
      ],
      "execution_count": 0,
      "outputs": []
    },
    {
      "metadata": {
        "id": "2F_Z1x6dyN2K",
        "colab_type": "code",
        "colab": {
          "base_uri": "https://localhost:8080/",
          "height": 34
        },
        "outputId": "d0507816-6b65-4be4-feb1-b30c1a49530d"
      },
      "cell_type": "code",
      "source": [
        "count = 0\n",
        "for row_it in converted_list:\n",
        "  if row_it[1] >= 500:\n",
        "    count += 1\n",
        "\n",
        "\n",
        "per = count / len(converted_list)\n",
        "print(float(per))\n"
      ],
      "execution_count": 25,
      "outputs": [
        {
          "output_type": "stream",
          "text": [
            "0.0\n"
          ],
          "name": "stdout"
        }
      ]
    },
    {
      "metadata": {
        "id": "B1587ahMyt6W",
        "colab_type": "code",
        "colab": {
          "base_uri": "https://localhost:8080/",
          "height": 72
        },
        "outputId": "1e71285a-13a0-438a-da90-6f3428e79a10"
      },
      "cell_type": "code",
      "source": [
        "stream_weather = open(\"la_weather.csv\", \"r\").read().split(\"\\n\")\n",
        "stream_weather.pop(0)\n",
        "print(stream_weather)\n",
        "stream_weather_formated = []\n",
        "for row_it in stream_weather:\n",
        "  row_it.split(\",\")\n",
        "  stream_weather_formated.append(row_it)\n",
        "  \n",
        "print(stream_weather_formated)\n"
      ],
      "execution_count": 47,
      "outputs": [
        {
          "output_type": "stream",
          "text": [
            "['1,Sunny', '2,Sunny', '3,Sunny', '4,Sunny', '5,Sunny', '6,Rain', '7,Sunny', '8,Sunny', '9,Fog', '10,Rain', '11,Sunny', '12,Sunny', '13,Sunny', '14,Sunny', '15,Sunny', '16,Fog', '17,Sunny', '18,Sunny', '19,Sunny', '20,Sunny', '21,Sunny', '22,Sunny', '23,Rain', '24,Fog-Rain', '25,Rain', '26,Fog-Rain', '27,Rain', '28,Sunny', '29,Sunny', '30,Sunny', '31,Sunny', '32,Sunny', '33,Rain', '34,Sunny', '35,Fog', '36,Fog', '37,Sunny', '38,Sunny', '39,Rain', '40,Sunny', '41,Sunny', '42,Sunny', '43,Sunny', '44,Sunny', '45,Fog', '46,Sunny', '47,Sunny', '48,Fog', '49,Sunny', '50,Rain', '51,Sunny', '52,Sunny', '53,Sunny', '54,Sunny', '55,Sunny', '56,Sunny', '57,Sunny', '58,Sunny', '59,Sunny', '60,Sunny', '61,Sunny', '62,Rain', '63,Fog', '64,Fog', '65,Sunny', '66,Rain', '67,Rain', '68,Sunny', '69,Sunny', '70,Sunny', '71,Fog', '72,Fog', '73,Fog', '74,Fog', '75,Fog', '76,Sunny', '77,Sunny', '78,Sunny', '79,Sunny', '80,Sunny', '81,Fog', '82,Sunny', '83,Sunny', '84,Fog', '85,Sunny', '86,Fog', '87,Fog', '88,Fog', '89,Fog', '90,Rain', '91,Sunny', '92,Fog', '93,Fog', '94,Fog', '95,Sunny', '96,Sunny', '97,Sunny', '98,Sunny', '99,Fog', '100,Sunny', '101,Sunny', '102,Sunny', '103,Sunny', '104,Sunny', '105,Rain', '106,Sunny', '107,Sunny', '108,Sunny', '109,Sunny', '110,Fog', '111,Fog', '112,Fog', '113,Sunny', '114,Rain', '115,Sunny', '116,Sunny', '117,Sunny', '118,Fog', '119,Fog', '120,Sunny', '121,Sunny', '122,Fog', '123,Sunny', '124,Sunny', '125,Rain', '126,Rain', '127,Rain', '128,Sunny', '129,Thunderstorm', '130,Fog', '131,Sunny', '132,Fog', '133,Sunny', '134,Fog', '135,Fog', '136,Sunny', '137,Sunny', '138,Sunny', '139,Sunny', '140,Fog', '141,Fog', '142,Sunny', '143,Sunny', '144,Sunny', '145,Sunny', '146,Sunny', '147,Sunny', '148,Sunny', '149,Fog', '150,Fog', '151,Sunny', '152,Sunny', '153,Sunny', '154,Sunny', '155,Sunny', '156,Sunny', '157,Fog', '158,Fog', '159,Sunny', '160,Sunny', '161,Sunny', '162,Sunny', '163,Fog', '164,Fog', '165,Fog', '166,Sunny', '167,Sunny', '168,Fog', '169,Fog', '170,Fog', '171,Sunny', '172,Sunny', '173,Sunny', '174,Sunny', '175,Sunny', '176,Fog', '177,Fog', '178,Fog', '179,Fog', '180,Fog', '181,Sunny', '182,Fog', '183,Fog', '184,Fog', '185,Fog', '186,Sunny', '187,Sunny', '188,Sunny', '189,Sunny', '190,Fog', '191,Sunny', '192,Fog-Rain', '193,Fog', '194,Fog', '195,Sunny', '196,Fog', '197,Sunny', '198,Fog', '199,Fog', '200,Fog', '201,Sunny', '202,Rain', '203,Fog', '204,Fog', '205,Fog', '206,Fog', '207,Fog-Rain', '208,Sunny', '209,Sunny', '210,Fog', '211,Sunny', '212,Sunny', '213,Fog', '214,Fog', '215,Sunny', '216,Sunny', '217,Fog', '218,Fog', '219,Fog', '220,Sunny', '221,Sunny', '222,Sunny', '223,Sunny', '224,Fog', '225,Fog', '226,Fog', '227,Fog', '228,Fog', '229,Fog', '230,Fog', '231,Fog', '232,Fog', '233,Fog', '234,Sunny', '235,Fog', '236,Fog', '237,Fog', '238,Fog', '239,Sunny', '240,Fog', '241,Fog', '242,Fog', '243,Sunny', '244,Sunny', '245,Fog', '246,Sunny', '247,Fog', '248,Fog', '249,Sunny', '250,Sunny', '251,Fog', '252,Fog', '253,Fog', '254,Sunny', '255,Sunny', '256,Fog', '257,Fog', '258,Sunny', '259,Fog', '260,Fog', '261,Fog', '262,Fog', '263,Fog', '264,Sunny', '265,Sunny', '266,Sunny', '267,Fog', '268,Sunny', '269,Sunny', '270,Sunny', '271,Sunny', '272,Sunny', '273,Sunny', '274,Fog', '275,Sunny', '276,Fog', '277,Sunny', '278,Sunny', '279,Sunny', '280,Sunny', '281,Fog', '282,Rain', '283,Sunny', '284,Sunny', '285,Sunny', '286,Sunny', '287,Sunny', '288,Sunny', '289,Sunny', '290,Sunny', '291,Sunny', '292,Fog', '293,Fog', '294,Fog', '295,Fog', '296,Sunny', '297,Sunny', '298,Fog', '299,Fog', '300,Fog', '301,Sunny', '302,Sunny', '303,Sunny', '304,Sunny', '305,Sunny', '306,Sunny', '307,Sunny', '308,Sunny', '309,Fog', '310,Sunny', '311,Sunny', '312,Fog', '313,Fog', '314,Sunny', '315,Fog', '316,Fog', '317,Sunny', '318,Sunny', '319,Fog', '320,Sunny', '321,Sunny', '322,Fog', '323,Sunny', '324,Rain', '325,Rain', '326,Rain', '327,Sunny', '328,Sunny', '329,Sunny', '330,Sunny', '331,Sunny', '332,Sunny', '333,Rain', '334,Sunny', '335,Sunny', '336,Sunny', '337,Sunny', '338,Sunny', '339,Sunny', '340,Sunny', '341,Rain', '342,Sunny', '343,Sunny', '344,Sunny', '345,Sunny', '346,Fog', '347,Fog', '348,Sunny', '349,Sunny', '350,Sunny', '351,Sunny', '352,Sunny', '353,Rain', '354,Sunny', '355,Sunny', '356,Sunny', '357,Fog', '358,Sunny', '359,Sunny', '360,Sunny', '361,Sunny', '362,Sunny', '363,Fog', '364,Fog', '365,Fog']\n",
            "['1,Sunny', '2,Sunny', '3,Sunny', '4,Sunny', '5,Sunny', '6,Rain', '7,Sunny', '8,Sunny', '9,Fog', '10,Rain', '11,Sunny', '12,Sunny', '13,Sunny', '14,Sunny', '15,Sunny', '16,Fog', '17,Sunny', '18,Sunny', '19,Sunny', '20,Sunny', '21,Sunny', '22,Sunny', '23,Rain', '24,Fog-Rain', '25,Rain', '26,Fog-Rain', '27,Rain', '28,Sunny', '29,Sunny', '30,Sunny', '31,Sunny', '32,Sunny', '33,Rain', '34,Sunny', '35,Fog', '36,Fog', '37,Sunny', '38,Sunny', '39,Rain', '40,Sunny', '41,Sunny', '42,Sunny', '43,Sunny', '44,Sunny', '45,Fog', '46,Sunny', '47,Sunny', '48,Fog', '49,Sunny', '50,Rain', '51,Sunny', '52,Sunny', '53,Sunny', '54,Sunny', '55,Sunny', '56,Sunny', '57,Sunny', '58,Sunny', '59,Sunny', '60,Sunny', '61,Sunny', '62,Rain', '63,Fog', '64,Fog', '65,Sunny', '66,Rain', '67,Rain', '68,Sunny', '69,Sunny', '70,Sunny', '71,Fog', '72,Fog', '73,Fog', '74,Fog', '75,Fog', '76,Sunny', '77,Sunny', '78,Sunny', '79,Sunny', '80,Sunny', '81,Fog', '82,Sunny', '83,Sunny', '84,Fog', '85,Sunny', '86,Fog', '87,Fog', '88,Fog', '89,Fog', '90,Rain', '91,Sunny', '92,Fog', '93,Fog', '94,Fog', '95,Sunny', '96,Sunny', '97,Sunny', '98,Sunny', '99,Fog', '100,Sunny', '101,Sunny', '102,Sunny', '103,Sunny', '104,Sunny', '105,Rain', '106,Sunny', '107,Sunny', '108,Sunny', '109,Sunny', '110,Fog', '111,Fog', '112,Fog', '113,Sunny', '114,Rain', '115,Sunny', '116,Sunny', '117,Sunny', '118,Fog', '119,Fog', '120,Sunny', '121,Sunny', '122,Fog', '123,Sunny', '124,Sunny', '125,Rain', '126,Rain', '127,Rain', '128,Sunny', '129,Thunderstorm', '130,Fog', '131,Sunny', '132,Fog', '133,Sunny', '134,Fog', '135,Fog', '136,Sunny', '137,Sunny', '138,Sunny', '139,Sunny', '140,Fog', '141,Fog', '142,Sunny', '143,Sunny', '144,Sunny', '145,Sunny', '146,Sunny', '147,Sunny', '148,Sunny', '149,Fog', '150,Fog', '151,Sunny', '152,Sunny', '153,Sunny', '154,Sunny', '155,Sunny', '156,Sunny', '157,Fog', '158,Fog', '159,Sunny', '160,Sunny', '161,Sunny', '162,Sunny', '163,Fog', '164,Fog', '165,Fog', '166,Sunny', '167,Sunny', '168,Fog', '169,Fog', '170,Fog', '171,Sunny', '172,Sunny', '173,Sunny', '174,Sunny', '175,Sunny', '176,Fog', '177,Fog', '178,Fog', '179,Fog', '180,Fog', '181,Sunny', '182,Fog', '183,Fog', '184,Fog', '185,Fog', '186,Sunny', '187,Sunny', '188,Sunny', '189,Sunny', '190,Fog', '191,Sunny', '192,Fog-Rain', '193,Fog', '194,Fog', '195,Sunny', '196,Fog', '197,Sunny', '198,Fog', '199,Fog', '200,Fog', '201,Sunny', '202,Rain', '203,Fog', '204,Fog', '205,Fog', '206,Fog', '207,Fog-Rain', '208,Sunny', '209,Sunny', '210,Fog', '211,Sunny', '212,Sunny', '213,Fog', '214,Fog', '215,Sunny', '216,Sunny', '217,Fog', '218,Fog', '219,Fog', '220,Sunny', '221,Sunny', '222,Sunny', '223,Sunny', '224,Fog', '225,Fog', '226,Fog', '227,Fog', '228,Fog', '229,Fog', '230,Fog', '231,Fog', '232,Fog', '233,Fog', '234,Sunny', '235,Fog', '236,Fog', '237,Fog', '238,Fog', '239,Sunny', '240,Fog', '241,Fog', '242,Fog', '243,Sunny', '244,Sunny', '245,Fog', '246,Sunny', '247,Fog', '248,Fog', '249,Sunny', '250,Sunny', '251,Fog', '252,Fog', '253,Fog', '254,Sunny', '255,Sunny', '256,Fog', '257,Fog', '258,Sunny', '259,Fog', '260,Fog', '261,Fog', '262,Fog', '263,Fog', '264,Sunny', '265,Sunny', '266,Sunny', '267,Fog', '268,Sunny', '269,Sunny', '270,Sunny', '271,Sunny', '272,Sunny', '273,Sunny', '274,Fog', '275,Sunny', '276,Fog', '277,Sunny', '278,Sunny', '279,Sunny', '280,Sunny', '281,Fog', '282,Rain', '283,Sunny', '284,Sunny', '285,Sunny', '286,Sunny', '287,Sunny', '288,Sunny', '289,Sunny', '290,Sunny', '291,Sunny', '292,Fog', '293,Fog', '294,Fog', '295,Fog', '296,Sunny', '297,Sunny', '298,Fog', '299,Fog', '300,Fog', '301,Sunny', '302,Sunny', '303,Sunny', '304,Sunny', '305,Sunny', '306,Sunny', '307,Sunny', '308,Sunny', '309,Fog', '310,Sunny', '311,Sunny', '312,Fog', '313,Fog', '314,Sunny', '315,Fog', '316,Fog', '317,Sunny', '318,Sunny', '319,Fog', '320,Sunny', '321,Sunny', '322,Fog', '323,Sunny', '324,Rain', '325,Rain', '326,Rain', '327,Sunny', '328,Sunny', '329,Sunny', '330,Sunny', '331,Sunny', '332,Sunny', '333,Rain', '334,Sunny', '335,Sunny', '336,Sunny', '337,Sunny', '338,Sunny', '339,Sunny', '340,Sunny', '341,Rain', '342,Sunny', '343,Sunny', '344,Sunny', '345,Sunny', '346,Fog', '347,Fog', '348,Sunny', '349,Sunny', '350,Sunny', '351,Sunny', '352,Sunny', '353,Rain', '354,Sunny', '355,Sunny', '356,Sunny', '357,Fog', '358,Sunny', '359,Sunny', '360,Sunny', '361,Sunny', '362,Sunny', '363,Fog', '364,Fog', '365,Fog']\n"
          ],
          "name": "stdout"
        }
      ]
    },
    {
      "metadata": {
        "id": "TBPjEoOT1JYq",
        "colab_type": "code",
        "colab": {}
      },
      "cell_type": "code",
      "source": [
        "weather_types = [\"Rain\", \"Sunny\", \"Fog\", \"Fog-Rain\", \"Thunderstorm\", \"Type of Weather\"]\n",
        "weather_type_found = []\n",
        "for it in weat"
      ],
      "execution_count": 0,
      "outputs": []
    }
  ]
}