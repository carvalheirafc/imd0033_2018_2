{
  "nbformat": 4,
  "nbformat_minor": 0,
  "metadata": {
    "colab": {
      "name": "Lession05.ipynb",
      "version": "0.3.2",
      "provenance": [],
      "collapsed_sections": [],
      "include_colab_link": true
    }
  },
  "cells": [
    {
      "cell_type": "markdown",
      "metadata": {
        "id": "view-in-github",
        "colab_type": "text"
      },
      "source": [
        "[View in Colaboratory](https://colab.research.google.com/github/carvalheirafc/probabilidade_repository/blob/master/aula05/Lession05.ipynb)"
      ]
    },
    {
      "metadata": {
        "id": "KEy-DFS0I5Vj",
        "colab_type": "code",
        "colab": {}
      },
      "cell_type": "code",
      "source": [
        "from google.colab import files\n",
        "\n",
        "uploaded = files.upload()\n",
        "\n",
        "for fn in uploaded.keys():\n",
        "  print('User uploaded file \"{name}\" with length {length} bytes'.format(\n",
        "      name=fn, length=len(uploaded[fn])))"
      ],
      "execution_count": 0,
      "outputs": []
    },
    {
      "metadata": {
        "id": "QYoacmvcJRgB",
        "colab_type": "code",
        "colab": {
          "base_uri": "https://localhost:8080/",
          "height": 35
        },
        "outputId": "30253f7a-5bb2-4e42-95f1-65d76da24fb3"
      },
      "cell_type": "code",
      "source": [
        "def average(argList):\n",
        "  summation = 0.0\n",
        "  for iterator in argList:\n",
        "    summation += float(iterator)\n",
        "  return summation / len(argList)\n",
        "\n",
        "\n",
        "  \n",
        "\n",
        "dummy = [1, 1, 1]\n",
        "top5_streams = [2993988783, 1829621841, 1460802540, 1386258295, 1311243745]\n",
        "\n",
        "\n",
        "print average(dummy), average(top5_streams)"
      ],
      "execution_count": 11,
      "outputs": [
        {
          "output_type": "stream",
          "text": [
            "1.0 1796383040.8\n"
          ],
          "name": "stdout"
        }
      ]
    },
    {
      "metadata": {
        "id": "ZRreaIy_J2uT",
        "colab_type": "code",
        "colab": {}
      },
      "cell_type": "code",
      "source": [
        "!pip install statistics"
      ],
      "execution_count": 0,
      "outputs": []
    },
    {
      "metadata": {
        "id": "NXZRzAOuL_3G",
        "colab_type": "code",
        "colab": {
          "base_uri": "https://localhost:8080/",
          "height": 35
        },
        "outputId": "c63cb303-a9f5-4967-8cc6-356265f5da40"
      },
      "cell_type": "code",
      "source": [
        "import statistics\n",
        "\n",
        "top5_streams = [2993988783, 1829621841, 1460802540, 1386258295, 1311243745]\n",
        "\n",
        "print statistics.mean(top5_streams)"
      ],
      "execution_count": 14,
      "outputs": [
        {
          "output_type": "stream",
          "text": [
            "1796383040.8\n"
          ],
          "name": "stdout"
        }
      ]
    },
    {
      "metadata": {
        "id": "yUBusdxSMOE0",
        "colab_type": "code",
        "colab": {}
      },
      "cell_type": "code",
      "source": [
        "import csv\n",
        "\n",
        "music = list(csv.reader(open(\"top100.csv\", \"r\")))\n",
        "print music"
      ],
      "execution_count": 0,
      "outputs": []
    },
    {
      "metadata": {
        "id": "eUjUXS35MtZn",
        "colab_type": "code",
        "colab": {}
      },
      "cell_type": "code",
      "source": [
        ""
      ],
      "execution_count": 0,
      "outputs": []
    }
  ]
}