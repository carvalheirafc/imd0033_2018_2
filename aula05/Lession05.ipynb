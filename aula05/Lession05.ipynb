{
  "nbformat": 4,
  "nbformat_minor": 0,
  "metadata": {
    "colab": {
      "name": "Lession05.ipynb",
      "version": "0.3.2",
      "provenance": [],
      "collapsed_sections": [],
      "include_colab_link": true
    }
  },
  "cells": [
    {
      "cell_type": "markdown",
      "metadata": {
        "id": "view-in-github",
        "colab_type": "text"
      },
      "source": [
        "[View in Colaboratory](https://colab.research.google.com/github/carvalheirafc/probabilidade_repository/blob/master/aula05/Lession05.ipynb)"
      ]
    },
    {
      "metadata": {
        "id": "KEy-DFS0I5Vj",
        "colab_type": "code",
        "colab": {}
      },
      "cell_type": "code",
      "source": [
        "from google.colab import files\n",
        "\n",
        "uploaded = files.upload()\n",
        "\n",
        "for fn in uploaded.keys():\n",
        "  print('User uploaded file \"{name}\" with length {length} bytes'.format(\n",
        "      name=fn, length=len(uploaded[fn])))"
      ],
      "execution_count": 0,
      "outputs": []
    },
    {
      "metadata": {
        "id": "QYoacmvcJRgB",
        "colab_type": "code",
        "colab": {
          "base_uri": "https://localhost:8080/",
          "height": 35
        },
        "outputId": "30253f7a-5bb2-4e42-95f1-65d76da24fb3"
      },
      "cell_type": "code",
      "source": [
        "def average(argList):\n",
        "  summation = 0.0\n",
        "  for iterator in argList:\n",
        "    summation += float(iterator)\n",
        "  return summation / len(argList)\n",
        "\n",
        "\n",
        "  \n",
        "\n",
        "dummy = [1, 1, 1]\n",
        "top5_streams = [2993988783, 1829621841, 1460802540, 1386258295, 1311243745]\n",
        "\n",
        "\n",
        "print average(dummy), average(top5_streams)"
      ],
      "execution_count": 11,
      "outputs": [
        {
          "output_type": "stream",
          "text": [
            "1.0 1796383040.8\n"
          ],
          "name": "stdout"
        }
      ]
    },
    {
      "metadata": {
        "id": "ZRreaIy_J2uT",
        "colab_type": "code",
        "colab": {}
      },
      "cell_type": "code",
      "source": [
        "!pip install statistics"
      ],
      "execution_count": 0,
      "outputs": []
    },
    {
      "metadata": {
        "id": "NXZRzAOuL_3G",
        "colab_type": "code",
        "colab": {
          "base_uri": "https://localhost:8080/",
          "height": 35
        },
        "outputId": "c63cb303-a9f5-4967-8cc6-356265f5da40"
      },
      "cell_type": "code",
      "source": [
        "import statistics\n",
        "\n",
        "top5_streams = [2993988783, 1829621841, 1460802540, 1386258295, 1311243745]\n",
        "\n",
        "print statistics.mean(top5_streams)"
      ],
      "execution_count": 14,
      "outputs": [
        {
          "output_type": "stream",
          "text": [
            "1796383040.8\n"
          ],
          "name": "stdout"
        }
      ]
    },
    {
      "metadata": {
        "id": "yUBusdxSMOE0",
        "colab_type": "code",
        "colab": {
          "base_uri": "https://localhost:8080/",
          "height": 55
        },
        "outputId": "1eef8c7f-5c30-4011-b1ee-594b034442f2"
      },
      "cell_type": "code",
      "source": [
        "import csv\n",
        "\n",
        "music = list(csv.reader(open(\"top100.csv\", \"r\")))\n",
        "print music"
      ],
      "execution_count": 20,
      "outputs": [
        {
          "output_type": "stream",
          "text": [
            "[['Track Name', 'Artist', 'Position', 'Streams'], ['Shape of You', 'Ed Sheeran', '301513', '2993988783'], ['Despacito - Remix', 'Luis Fonsi', '477232', '1829621841'], ['Despacito (Featuring Daddy Yankee)', 'Luis Fonsi', '816152', '1460802540'], ['Something Just Like This', 'The Chainsmokers', '725122', '1386258295'], ['HUMBLE.', 'Kendrick Lamar', '854060', '1311243745'], ['Unforgettable', 'French Montana', '667424', '1289150890'], ['rockstar', 'Post Malone', '127973', '1260181617'], [\"I'm the One\", 'DJ Khaled', '548303', '1254196301'], [\"It Ain't Me (with Selena Gomez)\", 'Kygo', '865603', '1190339348'], ['XO TOUR Llif3', 'Lil Uzi Vert', '815686', '1171827725'], [\"That's What I Like\", 'Bruno Mars', '904200', '1136379512'], ['New Rules', 'Dua Lipa', '238554', '1119944498'], ['I Don\\xe2\\x80\\x99t Wanna Live Forever (Fifty Shades Darker) - From \"Fifty Shades Darker (Original Motion Picture Soundtrack)\"', 'ZAYN', '1076427', '1115034686'], ['Attention', 'Charlie Puth', '560536', '1112777364'], ['Mi Gente', 'J Balvin', '328826', '1091656642'], ['Congratulations', 'Post Malone', '1045037', '1082624976'], ['Thunder', 'Imagine Dragons', '624701', '1067732868'], ['Havana', 'Camila Cabello', '205274', '1042161672'], ['Stay (with Alessia Cara)', 'Zedd', '752376', '1019694133'], ['Believer', 'Imagine Dragons', '1124683', '1015847453'], ['Perfect', 'Ed Sheeran', '897147', '1008408812'], ['Mask Off', 'Future', '743455', '1006341171'], ['Swalla (feat. Nicki Minaj & Ty Dolla $ign)', 'Jason Derulo', '858898', '999169637'], ['Paris', 'The Chainsmokers', '854958', '987780468'], [\"There's Nothing Holdin' Me Back\", 'Shawn Mendes', '734230', '968921695'], ['Rockabye (feat. Sean Paul & Anne-Marie)', 'Clean Bandit', '1156948', '955057855'], ['Castle on the Hill', 'Ed Sheeran', '889667', '950641030'], ['Me Reh\\xc3\\xbaso', 'Danny Ocean', '431309', '940817528'], [\"Say You Won't Let Go\", 'James Arthur', '1010946', '935562425'], ['1-800-273-8255', 'Logic', '640433', '933123676'], ['Closer', 'The Chainsmokers', '1110432', '913967674'], ['Wild Thoughts', 'DJ Khaled', '492755', '899312362'], ['Symphony (feat. Zara Larsson)', 'Clean Bandit', '711176', '896622597'], ['Galway Girl', 'Ed Sheeran', '783989', '895638000'], ['Issues', 'Julia Michaels', '934978', '876964500'], ['Starboy', 'The Weeknd', '1097782', '873463775'], ['Scared to Be Lonely', 'Martin Garrix', '1074560', '866104216'], ['I Feel It Coming', 'The Weeknd', '1030046', '850458048'], ['Strip That Down', 'Liam Payne', '570869', '838097403'], ['Feels', 'Calvin Harris', '496453', '827551630'], ['Passionfruit', 'Drake', '596085', '814894648'], ['2U (feat. Justin Bieber)', 'David Guetta', '492641', '790557613'], ['Slide', 'Calvin Harris', '696143', '785069695'], ['Felices los 4', 'Maluma', '352436', '772361281'], ['Mama', 'Jonas Blue', '573220', '769318147'], ['Silence', 'Marshmello', '362527', '737767509'], ['Sorry Not Sorry', 'Demi Lovato', '487731', '720516224'], ['Location', 'Khalid', '616749', '717013813'], ['More Than You Know', 'Axwell /\\\\ Ingrosso', '605290', '705986976'], ['What Lovers Do (feat. SZA)', 'Maroon 5', '211254', '701629829'], ['Call On Me - Ryan Riback Extended Remix', 'Starley', '815866', '692456887'], ['iSpy (feat. Lil Yachty)', 'KYLE', '506471', '674491343'], ['Bad and Boujee (feat. Lil Uzi Vert)', 'Migos', '572627', '666341013'], ['Dusk Till Dawn - Radio Edit', 'ZAYN', '206311', '658624523'], ['One Dance', 'Drake', '1163853', '654779932'], ['Young Dumb & Broke', 'Khalid', '445267', '647310564'], ['Chantaje', 'Shakira', '718787', '632408350'], ['Pretty Girl - Cheat Codes X CADE Remix', 'Maggie Lindemann', '526541', '626487283'], ['Redbone', 'Childish Gambino', '566682', '611080489'], ['Solo Dance', 'Martin Jensen', '884221', '610906869'], ['DNA.', 'Kendrick Lamar', '437885', '592998072'], ['Let Me Love You', 'DJ Snake', '1162252', '590975651'], ['Fake Love', 'Drake', '576735', '587832754'], ['Bank Account', '21 Savage', '511132', '580325236'], ['Esc\\xc3\\xa1pate Conmigo', 'Wisin', '224296', '579221138'], ['No Promises (feat. Demi Lovato)', 'Cheat Codes', '784725', '573899906'], ['Slow Hands', 'Niall Horan', '605126', '572132689'], ['I Like Me Better', 'Lauv', '475642', '566354635'], ['goosebumps', 'Travis Scott', '454449', '565721352'], ['Glorious (feat. Skylar Grey)', 'Macklemore', '447790', '564980207'], ['Look What You Made Me Do', 'Taylor Swift', '335837', '562562226'], ['SUBEME LA RADIO', 'Enrique Iglesias', '604871', '558809634'], ['24K Magic', 'Bruno Mars', '932715', '556899904'], ['Friends (with BloodPop\\xc2\\xae)', 'Justin Bieber', '390754', '551075212'], ['There for You', 'Martin Garrix', '532295', '528923262'], ['Gucci Gang', 'Lil Pump', '258540', '510605513'], [\"You Don't Know Me - Radio Edit\", 'Jax Jones', '609001', '506844646'], ['Sign of the Times', 'Harry Styles', '756325', '503894417'], ['El Amante', 'Nicky Jam', '350843', '499336152'], ['Your Song', 'Rita Ora', '442907', '491609136'], ['Bounce Back', 'Big Sean', '421827', '488078948'], ['Feel It Still', 'Portugal. The Man', '419385', '483483669'], ['Chained To The Rhythm', 'Katy Perry', '525331', '474289174'], ['Ahora Dice', 'Chris Jeday', '147691', '470572931'], ['Wolves', 'Selena Gomez', '96249', '469216658'], ['How Far I\\'ll Go - From \"Moana\"', 'Alessia Cara', '604411', '465496520'], ['Let You Down', 'NF', '203265', '463090027'], [\"Don't Wanna Know\", 'Maroon 5', '711633', '455698369'], ['Butterfly Effect', 'Travis Scott', '433366', '453683860'], ['Otra Vez (feat. J Balvin)', 'Zion & Lennox', '253971', '451745621'], ['Back to You (feat. Bebe Rexha & Digital Farm Animals)', 'Louis Tomlinson', '393546', '451270404'], ['Body Like A Back Road', 'Sam Hunt', '289599', '445817302'], ['Photograph', 'Ed Sheeran', '1525708', '441132246'], ['I Fall Apart', 'Post Malone', '235648', '440240510'], ['Starving', 'Hailee Steinfeld', '907044', '439067799'], ['Lonely Together (feat. Rita Ora)', 'Avicii', '377520', '438823227'], ['Malibu', 'Miley Cyrus', '570044', '434476818'], ['Bodak Yellow', 'Cardi B', '378744', '432842079'], ['Cold', 'Maroon 5', '510552', '432042120'], ['Reggaet\\xc3\\xb3n Lento (Bailemos)', 'CNCO', '402095', '422194481']]\n"
          ],
          "name": "stdout"
        }
      ]
    },
    {
      "metadata": {
        "id": "eUjUXS35MtZn",
        "colab_type": "code",
        "colab": {
          "base_uri": "https://localhost:8080/",
          "height": 55
        },
        "outputId": "ad87176b-6721-4686-dde5-01780276d85f"
      },
      "cell_type": "code",
      "source": [
        "import csv\n",
        "\n",
        "stream_numbers = []\n",
        "track_names = []\n",
        "\n",
        "for iterator in music[1:]:\n",
        "  track_names.append(iterator[0])\n",
        "  stream_numbers.append(int(iterator[3]))\n",
        "  \n",
        "  \n",
        "print stream_numbers  \n"
      ],
      "execution_count": 31,
      "outputs": [
        {
          "output_type": "stream",
          "text": [
            "[2993988783, 1829621841, 1460802540, 1386258295, 1311243745, 1289150890, 1260181617, 1254196301, 1190339348, 1171827725, 1136379512, 1119944498, 1115034686, 1112777364, 1091656642, 1082624976, 1067732868, 1042161672, 1019694133, 1015847453, 1008408812, 1006341171, 999169637, 987780468, 968921695, 955057855, 950641030, 940817528, 935562425, 933123676, 913967674, 899312362, 896622597, 895638000, 876964500, 873463775, 866104216, 850458048, 838097403, 827551630, 814894648, 790557613, 785069695, 772361281, 769318147, 737767509, 720516224, 717013813, 705986976, 701629829, 692456887, 674491343, 666341013, 658624523, 654779932, 647310564, 632408350, 626487283, 611080489, 610906869, 592998072, 590975651, 587832754, 580325236, 579221138, 573899906, 572132689, 566354635, 565721352, 564980207, 562562226, 558809634, 556899904, 551075212, 528923262, 510605513, 506844646, 503894417, 499336152, 491609136, 488078948, 483483669, 474289174, 470572931, 469216658, 465496520, 463090027, 455698369, 453683860, 451745621, 451270404, 445817302, 441132246, 440240510, 439067799, 438823227, 434476818, 432842079, 432042120, 422194481]\n"
          ],
          "name": "stdout"
        }
      ]
    },
    {
      "metadata": {
        "id": "zXmuU-30OtNG",
        "colab_type": "code",
        "colab": {}
      },
      "cell_type": "code",
      "source": [
        ""
      ],
      "execution_count": 0,
      "outputs": []
    }
  ]
}