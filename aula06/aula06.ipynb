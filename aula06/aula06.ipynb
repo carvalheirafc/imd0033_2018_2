{
  "nbformat": 4,
  "nbformat_minor": 0,
  "metadata": {
    "colab": {
      "name": "aula06.ipynb",
      "version": "0.3.2",
      "provenance": [],
      "collapsed_sections": [],
      "include_colab_link": true
    }
  },
  "cells": [
    {
      "cell_type": "markdown",
      "metadata": {
        "id": "view-in-github",
        "colab_type": "text"
      },
      "source": [
        "[View in Colaboratory](https://colab.research.google.com/github/carvalheirafc/probabilidade_repository/blob/master/aula06/aula06.ipynb)"
      ]
    },
    {
      "metadata": {
        "id": "nXIL0xMQDCk2",
        "colab_type": "code",
        "colab": {
          "base_uri": "https://localhost:8080/"
        },
        "outputId": "fa292569-f030-4567-b359-d0e13a8238f9"
      },
      "cell_type": "code",
      "source": [
        "from google.colab import files\n",
        "\n",
        "uploaded = files.upload()\n",
        "\n",
        "for fn in uploaded.keys():\n",
        "  print('User uploaded file \"{name}\" with length {length} bytes'.format(\n",
        "      name=fn, length=len(uploaded[fn])))\n",
        "  "
      ],
      "execution_count": 0,
      "outputs": [
        {
          "output_type": "display_data",
          "data": {
            "text/plain": [
              "<IPython.core.display.HTML object>"
            ],
            "text/html": [
              "\n",
              "     <input type=\"file\" id=\"files-29cd4028-4e5b-48cf-815d-8b6988714505\" name=\"files[]\" multiple disabled />\n",
              "     <output id=\"result-29cd4028-4e5b-48cf-815d-8b6988714505\">\n",
              "      Upload widget is only available when the cell has been executed in the\n",
              "      current browser session. Please rerun this cell to enable.\n",
              "      </output>\n",
              "      <script src=\"/nbextensions/google.colab/files.js\"></script> "
            ]
          },
          "metadata": {
            "tags": []
          }
        }
      ]
    },
    {
      "metadata": {
        "id": "MHWXDxuKDt6T",
        "colab_type": "code",
        "colab": {}
      },
      "cell_type": "code",
      "source": [
        "import csv\n",
        "\n",
        "def read_data(__FILE_NAME__):\n",
        "  read_data = open(__FILE_NAME__)\n",
        "  return list(csv.reader(read_data))\n",
        "\n",
        "def get_artist(__LIST__):\n",
        "  return [iterator[1]for iterator in __LIST__]\n",
        "\n",
        "raw_list = read_data(\"top100.csv\")\n",
        "artist_list = get_artist(raw_list)\n",
        "print artist_list[:3]\n",
        "\n",
        "\n",
        "\n"
      ],
      "execution_count": 0,
      "outputs": []
    },
    {
      "metadata": {
        "id": "28V8Sl1AEi1w",
        "colab_type": "code",
        "colab": {}
      },
      "cell_type": "code",
      "source": [
        "from collections import Counter\n",
        "\n",
        "def get_second(element):\n",
        "  return element[1]\n",
        "\n",
        "artist_counter_list = Counter(iterator for iterator in artist_list)\n",
        "print artist_counter_list\n",
        "\n"
      ],
      "execution_count": 0,
      "outputs": []
    },
    {
      "metadata": {
        "id": "xnqKWs9pFy0q",
        "colab_type": "code",
        "colab": {
          "base_uri": "https://localhost:8080/"
        },
        "outputId": "644be9a1-8a91-4c20-9e31-582002f0202e"
      },
      "cell_type": "code",
      "source": [
        "def get_second(element):\n",
        "  return element[1]\n",
        "\n",
        "def to_list(__COLLECTION__):\n",
        "  return [[iterator, __COLLECTION__[iterator]] for iterator in __COLLECTION__]\n",
        "\n",
        "temp_list = to_list(artist_counter_list)\n",
        "print temp_list\n",
        "\n",
        "sorted_artist_counter_list = temp_list.sort(key = get_second, \n",
        "                                                      reverse =  True)\n",
        "\n",
        "\n",
        "\n"
      ],
      "execution_count": 31,
      "outputs": [
        {
          "output_type": "stream",
          "text": [
            "[['David Guetta', 1], ['Luis Fonsi', 2], ['Zion & Lennox', 1], ['The Chainsmokers', 3], ['Lauv', 1], ['Chris Jeday', 1], ['Zedd', 1], ['Childish Gambino', 1], ['The Weeknd', 2], ['Martin Jensen', 1], ['J Balvin', 1], ['Dua Lipa', 1], ['Taylor Swift', 1], ['Cardi B', 1], ['Kendrick Lamar', 2], ['Julia Michaels', 1], ['Lil Pump', 1], ['Hailee Steinfeld', 1], ['Travis Scott', 2], ['Maluma', 1], ['Bruno Mars', 2], ['ZAYN', 2], ['Post Malone', 3], ['KYLE', 1], ['NF', 1], ['Calvin Harris', 2], ['Justin Bieber', 1], ['Rita Ora', 1], ['Katy Perry', 1], ['Alessia Cara', 1], ['Louis Tomlinson', 1], ['Imagine Dragons', 2], ['Miley Cyrus', 1], ['Portugal. The Man', 1], ['Danny Ocean', 1], ['Artist', 1], ['Axwell /\\\\ Ingrosso', 1], ['CNCO', 1], ['DJ Khaled', 2], ['Shawn Mendes', 1], ['Drake', 3], ['Selena Gomez', 1], ['Future', 1], ['Lil Uzi Vert', 1], ['Logic', 1], ['Niall Horan', 1], ['Sam Hunt', 1], ['Wisin', 1], ['Maggie Lindemann', 1], ['Martin Garrix', 2], ['Charlie Puth', 1], ['Enrique Iglesias', 1], ['Camila Cabello', 1], ['Kygo', 1], ['Jason Derulo', 1], ['Avicii', 1], ['Harry Styles', 1], ['Jonas Blue', 1], ['DJ Snake', 1], ['21 Savage', 1], ['Liam Payne', 1], ['Migos', 1], ['Khalid', 2], ['Macklemore', 1], ['Demi Lovato', 1], ['French Montana', 1], ['Ed Sheeran', 5], ['James Arthur', 1], ['Maroon 5', 3], ['Clean Bandit', 2], ['Marshmello', 1], ['Big Sean', 1], ['Nicky Jam', 1], ['Cheat Codes', 1], ['Starley', 1], ['Shakira', 1], ['Jax Jones', 1]]\n"
          ],
          "name": "stdout"
        }
      ]
    },
    {
      "metadata": {
        "id": "GAGOKlz8H-uR",
        "colab_type": "code",
        "colab": {}
      },
      "cell_type": "code",
      "source": [
        ""
      ],
      "execution_count": 0,
      "outputs": []
    }
  ]
}