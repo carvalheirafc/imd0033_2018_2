{
  "nbformat": 4,
  "nbformat_minor": 0,
  "metadata": {
    "colab": {
      "name": "aula06.ipynb",
      "version": "0.3.2",
      "provenance": [],
      "collapsed_sections": [],
      "include_colab_link": true
    },
    "kernelspec": {
      "name": "python3",
      "display_name": "Python 3"
    }
  },
  "cells": [
    {
      "cell_type": "markdown",
      "metadata": {
        "id": "view-in-github",
        "colab_type": "text"
      },
      "source": [
        "[View in Colaboratory](https://colab.research.google.com/github/carvalheirafc/probabilidade_repository/blob/master/aula06/aula06.ipynb)"
      ]
    },
    {
      "metadata": {
        "id": "nXIL0xMQDCk2",
        "colab_type": "code",
        "colab": {
          "resources": {
            "http://localhost:8080/nbextensions/google.colab/files.js": {
              "data": "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",
              "ok": true,
              "headers": [
                [
                  "content-type",
                  "application/javascript"
                ]
              ],
              "status": 200,
              "status_text": "OK"
            }
          },
          "base_uri": "https://localhost:8080/",
          "height": 99
        },
        "outputId": "73432bed-bc60-4f91-cdc3-a61c2df7f40b"
      },
      "cell_type": "code",
      "source": [
        "from google.colab import files\n",
        "\n",
        "uploaded = files.upload()\n",
        "\n",
        "for fn in uploaded.keys():\n",
        "  print('User uploaded file \"{name}\" with length {length} bytes'.format(\n",
        "      name=fn, length=len(uploaded[fn])))\n",
        "  "
      ],
      "execution_count": 33,
      "outputs": [
        {
          "output_type": "display_data",
          "data": {
            "text/plain": [
              "<IPython.core.display.HTML object>"
            ],
            "text/html": [
              "\n",
              "     <input type=\"file\" id=\"files-feae533f-6bc7-4e97-bc88-f4bd90adddb8\" name=\"files[]\" multiple disabled />\n",
              "     <output id=\"result-feae533f-6bc7-4e97-bc88-f4bd90adddb8\">\n",
              "      Upload widget is only available when the cell has been executed in the\n",
              "      current browser session. Please rerun this cell to enable.\n",
              "      </output>\n",
              "      <script src=\"/nbextensions/google.colab/files.js\"></script> "
            ]
          },
          "metadata": {
            "tags": []
          }
        },
        {
          "output_type": "stream",
          "text": [
            "Saving top100.csv to top100 (2).csv\n",
            "User uploaded file \"top100.csv\" with length 4707 bytes\n"
          ],
          "name": "stdout"
        }
      ]
    },
    {
      "metadata": {
        "id": "MHWXDxuKDt6T",
        "colab_type": "code",
        "colab": {}
      },
      "cell_type": "code",
      "source": [
        "import csv\n",
        "\n",
        "def read_data(__FILE_NAME__):\n",
        "  read_data = open(__FILE_NAME__)\n",
        "  return list(csv.reader(read_data))\n",
        "\n",
        "def get_artist(__LIST__):\n",
        "  return [iterator[1]for iterator in __LIST__]\n",
        "\n",
        "raw_list = read_data(\"top100.csv\")\n",
        "artist_list = get_artist(raw_list)\n",
        "print (artist_list)\n",
        "\n",
        "\n",
        "\n"
      ],
      "execution_count": 0,
      "outputs": []
    },
    {
      "metadata": {
        "id": "28V8Sl1AEi1w",
        "colab_type": "code",
        "colab": {
          "base_uri": "https://localhost:8080/",
          "height": 55
        },
        "outputId": "a066d4b5-a754-4222-b8e1-db3cf7f83470"
      },
      "cell_type": "code",
      "source": [
        "from collections import Counter\n",
        "\n",
        "def get_second(element):\n",
        "  return element[1]\n",
        "\n",
        "artist_counter_list = Counter(iterator for iterator in artist_list)\n",
        "# This artist_counter_list is sorted ??\n",
        "print (artist_counter_list)\n",
        "\n"
      ],
      "execution_count": 4,
      "outputs": [
        {
          "output_type": "stream",
          "text": [
            "Counter({'Ed Sheeran': 5, 'The Chainsmokers': 3, 'Post Malone': 3, 'Drake': 3, 'Maroon 5': 3, 'Luis Fonsi': 2, 'Kendrick Lamar': 2, 'DJ Khaled': 2, 'Bruno Mars': 2, 'ZAYN': 2, 'Imagine Dragons': 2, 'Clean Bandit': 2, 'The Weeknd': 2, 'Martin Garrix': 2, 'Calvin Harris': 2, 'Khalid': 2, 'Travis Scott': 2, 'Artist': 1, 'French Montana': 1, 'Kygo': 1, 'Lil Uzi Vert': 1, 'Dua Lipa': 1, 'Charlie Puth': 1, 'J Balvin': 1, 'Camila Cabello': 1, 'Zedd': 1, 'Future': 1, 'Jason Derulo': 1, 'Shawn Mendes': 1, 'Danny Ocean': 1, 'James Arthur': 1, 'Logic': 1, 'Julia Michaels': 1, 'Liam Payne': 1, 'David Guetta': 1, 'Maluma': 1, 'Jonas Blue': 1, 'Marshmello': 1, 'Demi Lovato': 1, 'Axwell /\\\\ Ingrosso': 1, 'Starley': 1, 'KYLE': 1, 'Migos': 1, 'Shakira': 1, 'Maggie Lindemann': 1, 'Childish Gambino': 1, 'Martin Jensen': 1, 'DJ Snake': 1, '21 Savage': 1, 'Wisin': 1, 'Cheat Codes': 1, 'Niall Horan': 1, 'Lauv': 1, 'Macklemore': 1, 'Taylor Swift': 1, 'Enrique Iglesias': 1, 'Justin Bieber': 1, 'Lil Pump': 1, 'Jax Jones': 1, 'Harry Styles': 1, 'Nicky Jam': 1, 'Rita Ora': 1, 'Big Sean': 1, 'Portugal. The Man': 1, 'Katy Perry': 1, 'Chris Jeday': 1, 'Selena Gomez': 1, 'Alessia Cara': 1, 'NF': 1, 'Zion & Lennox': 1, 'Louis Tomlinson': 1, 'Sam Hunt': 1, 'Hailee Steinfeld': 1, 'Avicii': 1, 'Miley Cyrus': 1, 'Cardi B': 1, 'CNCO': 1})\n"
          ],
          "name": "stdout"
        }
      ]
    },
    {
      "metadata": {
        "id": "xnqKWs9pFy0q",
        "colab_type": "code",
        "colab": {
          "base_uri": "https://localhost:8080/",
          "height": 73
        },
        "outputId": "058149b4-a8e8-4763-e38a-48b970555c9a"
      },
      "cell_type": "code",
      "source": [
        "# Two ways to do the same job.\n",
        "def get_second(element):\n",
        "  return element[1]\n",
        "\n",
        "def to_list(__COLLECTION__):\n",
        "  return [[iterator, __COLLECTION__[iterator]] for iterator in __COLLECTION__]\n",
        "\n",
        "test_list = to_list(artist_counter_list)\n",
        "test_list.sort(key = get_second, reverse = True)\n",
        "\n",
        "temp_list = [[key, value] for key, value in artist_counter_list.items()]\n",
        "temp_list.sort(key = lambda x: x[1],reverse =  True)\n",
        "\n",
        "print (temp_list)\n",
        "print (test_list)\n",
        "\n",
        "\n"
      ],
      "execution_count": 19,
      "outputs": [
        {
          "output_type": "stream",
          "text": [
            "[['Ed Sheeran', 5], ['The Chainsmokers', 3], ['Post Malone', 3], ['Drake', 3], ['Maroon 5', 3], ['Luis Fonsi', 2], ['Kendrick Lamar', 2], ['DJ Khaled', 2], ['Bruno Mars', 2], ['ZAYN', 2], ['Imagine Dragons', 2], ['Clean Bandit', 2], ['The Weeknd', 2], ['Martin Garrix', 2], ['Calvin Harris', 2], ['Khalid', 2], ['Travis Scott', 2], ['Artist', 1], ['French Montana', 1], ['Kygo', 1], ['Lil Uzi Vert', 1], ['Dua Lipa', 1], ['Charlie Puth', 1], ['J Balvin', 1], ['Camila Cabello', 1], ['Zedd', 1], ['Future', 1], ['Jason Derulo', 1], ['Shawn Mendes', 1], ['Danny Ocean', 1], ['James Arthur', 1], ['Logic', 1], ['Julia Michaels', 1], ['Liam Payne', 1], ['David Guetta', 1], ['Maluma', 1], ['Jonas Blue', 1], ['Marshmello', 1], ['Demi Lovato', 1], ['Axwell /\\\\ Ingrosso', 1], ['Starley', 1], ['KYLE', 1], ['Migos', 1], ['Shakira', 1], ['Maggie Lindemann', 1], ['Childish Gambino', 1], ['Martin Jensen', 1], ['DJ Snake', 1], ['21 Savage', 1], ['Wisin', 1], ['Cheat Codes', 1], ['Niall Horan', 1], ['Lauv', 1], ['Macklemore', 1], ['Taylor Swift', 1], ['Enrique Iglesias', 1], ['Justin Bieber', 1], ['Lil Pump', 1], ['Jax Jones', 1], ['Harry Styles', 1], ['Nicky Jam', 1], ['Rita Ora', 1], ['Big Sean', 1], ['Portugal. The Man', 1], ['Katy Perry', 1], ['Chris Jeday', 1], ['Selena Gomez', 1], ['Alessia Cara', 1], ['NF', 1], ['Zion & Lennox', 1], ['Louis Tomlinson', 1], ['Sam Hunt', 1], ['Hailee Steinfeld', 1], ['Avicii', 1], ['Miley Cyrus', 1], ['Cardi B', 1], ['CNCO', 1]]\n",
            "[['Ed Sheeran', 5], ['The Chainsmokers', 3], ['Post Malone', 3], ['Drake', 3], ['Maroon 5', 3], ['Luis Fonsi', 2], ['Kendrick Lamar', 2], ['DJ Khaled', 2], ['Bruno Mars', 2], ['ZAYN', 2], ['Imagine Dragons', 2], ['Clean Bandit', 2], ['The Weeknd', 2], ['Martin Garrix', 2], ['Calvin Harris', 2], ['Khalid', 2], ['Travis Scott', 2], ['Artist', 1], ['French Montana', 1], ['Kygo', 1], ['Lil Uzi Vert', 1], ['Dua Lipa', 1], ['Charlie Puth', 1], ['J Balvin', 1], ['Camila Cabello', 1], ['Zedd', 1], ['Future', 1], ['Jason Derulo', 1], ['Shawn Mendes', 1], ['Danny Ocean', 1], ['James Arthur', 1], ['Logic', 1], ['Julia Michaels', 1], ['Liam Payne', 1], ['David Guetta', 1], ['Maluma', 1], ['Jonas Blue', 1], ['Marshmello', 1], ['Demi Lovato', 1], ['Axwell /\\\\ Ingrosso', 1], ['Starley', 1], ['KYLE', 1], ['Migos', 1], ['Shakira', 1], ['Maggie Lindemann', 1], ['Childish Gambino', 1], ['Martin Jensen', 1], ['DJ Snake', 1], ['21 Savage', 1], ['Wisin', 1], ['Cheat Codes', 1], ['Niall Horan', 1], ['Lauv', 1], ['Macklemore', 1], ['Taylor Swift', 1], ['Enrique Iglesias', 1], ['Justin Bieber', 1], ['Lil Pump', 1], ['Jax Jones', 1], ['Harry Styles', 1], ['Nicky Jam', 1], ['Rita Ora', 1], ['Big Sean', 1], ['Portugal. The Man', 1], ['Katy Perry', 1], ['Chris Jeday', 1], ['Selena Gomez', 1], ['Alessia Cara', 1], ['NF', 1], ['Zion & Lennox', 1], ['Louis Tomlinson', 1], ['Sam Hunt', 1], ['Hailee Steinfeld', 1], ['Avicii', 1], ['Miley Cyrus', 1], ['Cardi B', 1], ['CNCO', 1]]\n"
          ],
          "name": "stdout"
        }
      ]
    },
    {
      "metadata": {
        "id": "GAGOKlz8H-uR",
        "colab_type": "code",
        "colab": {}
      },
      "cell_type": "code",
      "source": [
        "#"
      ],
      "execution_count": 0,
      "outputs": []
    }
  ]
}